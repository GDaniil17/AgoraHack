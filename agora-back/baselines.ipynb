{
 "cells": [
  {
   "cell_type": "code",
   "execution_count": 1,
   "metadata": {
    "collapsed": true,
    "pycharm": {
     "name": "#%%\n"
    }
   },
   "outputs": [],
   "source": [
    "import pandas as pd\n",
    "import json\n",
    "import re\n",
    "import random\n",
    "import seaborn as sns\n",
    "import matplotlib.pyplot as plt\n",
    "import simplemma\n",
    "from tqdm import tqdm\n",
    "import numpy as np\n",
    "from syntok.tokenizer import Tokenizer\n",
    "from sklearn.feature_extraction.text import *\n",
    "from sklearn.decomposition import TruncatedSVD\n",
    "from sklearn.neighbors import NearestNeighbors\n",
    "from collections import Counter\n",
    "from gensim.models import FastText, KeyedVectors"
   ]
  },
  {
   "cell_type": "code",
   "execution_count": 849,
   "outputs": [],
   "source": [
    "import pickle"
   ],
   "metadata": {
    "collapsed": false,
    "pycharm": {
     "name": "#%%\n"
    }
   }
  },
  {
   "cell_type": "code",
   "execution_count": null,
   "outputs": [],
   "source": [
    "# from tokenizers import Tokenizer\n",
    "# from tokenizers.models import BPE, Unigram, WordLevel, WordPiece\n",
    "# from tokenizers.trainers import BpeTrainer, WordLevelTrainer, \\\n",
    "#                                 WordPieceTrainer, UnigramTrainer"
   ],
   "metadata": {
    "collapsed": false,
    "pycharm": {
     "name": "#%%\n"
    }
   }
  },
  {
   "cell_type": "markdown",
   "source": [
    "## EDA"
   ],
   "metadata": {
    "collapsed": false,
    "pycharm": {
     "name": "#%% md\n"
    }
   }
  },
  {
   "cell_type": "code",
   "execution_count": 2,
   "outputs": [],
   "source": [
    "with open('data/agora_hack_products.json') as f:\n",
    "    train_dataset = json.load(f)"
   ],
   "metadata": {
    "collapsed": false,
    "pycharm": {
     "name": "#%%\n"
    }
   }
  },
  {
   "cell_type": "code",
   "execution_count": 3,
   "outputs": [
    {
     "data": {
      "text/plain": "3251"
     },
     "execution_count": 3,
     "metadata": {},
     "output_type": "execute_result"
    }
   ],
   "source": [
    "len(train_dataset)"
   ],
   "metadata": {
    "collapsed": false,
    "pycharm": {
     "name": "#%%\n"
    }
   }
  },
  {
   "cell_type": "code",
   "execution_count": 1295,
   "outputs": [
    {
     "ename": "TypeError",
     "evalue": "unhashable type: 'list'",
     "output_type": "error",
     "traceback": [
      "\u001B[0;31m---------------------------------------------------------------------------\u001B[0m",
      "\u001B[0;31mTypeError\u001B[0m                                 Traceback (most recent call last)",
      "\u001B[0;32m/tmp/ipykernel_50273/3556086601.py\u001B[0m in \u001B[0;36m<module>\u001B[0;34m\u001B[0m\n\u001B[0;32m----> 1\u001B[0;31m \u001B[0mtrain_dict\u001B[0m\u001B[0;34m[\u001B[0m\u001B[0mrandom\u001B[0m\u001B[0;34m.\u001B[0m\u001B[0mchoices\u001B[0m\u001B[0;34m(\u001B[0m\u001B[0mlist\u001B[0m\u001B[0;34m(\u001B[0m\u001B[0mnon_reference_ids\u001B[0m\u001B[0;34m)\u001B[0m\u001B[0;34m,\u001B[0m \u001B[0mk\u001B[0m\u001B[0;34m=\u001B[0m\u001B[0;36m10\u001B[0m\u001B[0;34m)\u001B[0m\u001B[0;34m]\u001B[0m\u001B[0;34m\u001B[0m\u001B[0;34m\u001B[0m\u001B[0m\n\u001B[0m",
      "\u001B[0;31mTypeError\u001B[0m: unhashable type: 'list'"
     ]
    }
   ],
   "source": [
    "random.choices(non_reference_ids, k=10)"
   ],
   "metadata": {
    "collapsed": false,
    "pycharm": {
     "name": "#%%\n"
    }
   }
  },
  {
   "cell_type": "code",
   "execution_count": 4,
   "outputs": [
    {
     "data": {
      "text/plain": "True"
     },
     "execution_count": 4,
     "metadata": {},
     "output_type": "execute_result"
    }
   ],
   "source": [
    "all([x.keys().__len__() == 5 for x in train_dataset])"
   ],
   "metadata": {
    "collapsed": false,
    "pycharm": {
     "name": "#%%\n"
    }
   }
  },
  {
   "cell_type": "code",
   "execution_count": 5,
   "outputs": [
    {
     "data": {
      "text/plain": "True"
     },
     "execution_count": 5,
     "metadata": {},
     "output_type": "execute_result"
    }
   ],
   "source": [
    "len(set([x['product_id'] for x in train_dataset])) == len(train_dataset)"
   ],
   "metadata": {
    "collapsed": false,
    "pycharm": {
     "name": "#%%\n"
    }
   }
  },
  {
   "cell_type": "code",
   "execution_count": 1090,
   "outputs": [
    {
     "data": {
      "text/plain": "[{'product_id': 'f72faaa81bcf61a2',\n  'name': 'Монитор Dell 23.8\"\" P2418HZm черный IPS LED 16:9 HDMI DisplayPort M/M Cam Mat HAS Pivot 1000:1 250cd',\n  'props': ['Покрытие  экрана антибликовое, матовое',\n   'Интерфейсы вход HDMI, вход DisplayPort, вход VGA'],\n  'is_reference': False,\n  'reference_id': 'ae0ded178481d783'},\n {'product_id': '9fb7c3c82eca3de8',\n  'name': 'Фен Lumme LU-1058 фиолетовый',\n  'props': ['Мощность\\t1400  Вт',\n   'Особенности  складная ручка, защита от перегрева, петля для подвешивания'],\n  'is_reference': False,\n  'reference_id': '0083737f904dd9a9'},\n {'product_id': 'a194d0e01810cef4',\n  'name': 'KORTING Посудомоечная машина KORTING KDI 45570',\n  'props': ['Тип   защиты от протечек\\tполная',\n   'Индикация на полу\\tлуч',\n   'Ширина\\t45 см',\n   'Третий  уровень загрузки\\tесть',\n   'Вместимость\\t10   комплектов'],\n  'is_reference': False,\n  'reference_id': 'f325184a5c99c599'},\n {'product_id': 'f5949f3c3d4611af',\n  'name': '43\" Телевизор LG 43UP75006LF 2021 LED, HDR, черный',\n  'props': ['Год создания модели\\t2021',\n   'Платформа Smart TV\\twebOS',\n   'Диагональ\\t43\"',\n   'Частота обновления экрана\\t60 Гц',\n   'Форматы HDR\\tHDR 10 Pro',\n   'Разрешение   HD\\t4K UHD',\n   'Технология   экрана HDR, LED',\n   'Разъемы   и интерфейсы слот CI/CI+, Ethernet - RJ-45, вход HDMI x 2, USB Type-A, выход аудио оптический',\n   'Беспроводная  связь Bluetooth, Miracast, Wi-Fi, Airplay',\n   'Разрешение\\t3840x2160',\n   'Тип   матрицы экрана\\tIPS',\n   'Тип  подсветки\\tDirect LED',\n   'Мощность  звука\\t20 Вт',\n   'Экосистема   умного дома LG Smart ThinQ, Умный дом Яндекса, Apple HomeKit'],\n  'is_reference': True,\n  'reference_id': None},\n {'product_id': 'bcad9e86686f9bdb',\n  'name': 'Микроволновая печь Candy CMS 20 W, белый',\n  'props': ['Линейка\\tBasic',\n   'Мощность микроволн\\t700 Вт',\n   'Внутреннее покрытие камеры\\tэмаль',\n   'Переключатели\\tповоротные механические',\n   'Объем\\t20   л',\n   'Диаметр   поддона\\t245 мм',\n   'Режимы   работы\\tразморозка',\n   'Доп.   режимы\\tзвуковой сигнал отключения',\n   'Особенности\\tблокировка   от детей',\n   'ШхВхГ\\t45.20х26.20х33.50  см'],\n  'is_reference': True,\n  'reference_id': None}]"
     },
     "execution_count": 1090,
     "metadata": {},
     "output_type": "execute_result"
    }
   ],
   "source": [
    "random.choices(train_dataset, k=5)"
   ],
   "metadata": {
    "collapsed": false,
    "pycharm": {
     "name": "#%%\n"
    }
   }
  },
  {
   "cell_type": "code",
   "execution_count": 7,
   "outputs": [
    {
     "data": {
      "text/plain": "3251"
     },
     "execution_count": 7,
     "metadata": {},
     "output_type": "execute_result"
    }
   ],
   "source": [
    "train_dict = {x['product_id']: x for x in train_dataset}\n",
    "len(train_dict)"
   ],
   "metadata": {
    "collapsed": false,
    "pycharm": {
     "name": "#%%\n"
    }
   }
  },
  {
   "cell_type": "code",
   "execution_count": 1290,
   "outputs": [
    {
     "data": {
      "text/plain": "['Особенности', 'блокировка  \\t от детей']"
     },
     "execution_count": 1290,
     "metadata": {},
     "output_type": "execute_result"
    }
   ],
   "source": [
    "\"Особенности\\tблокировка   от детей\".split('\\t', maxsplit=1)"
   ],
   "metadata": {
    "collapsed": false,
    "pycharm": {
     "name": "#%%\n"
    }
   }
  },
  {
   "cell_type": "code",
   "execution_count": 8,
   "outputs": [
    {
     "data": {
      "text/plain": "471"
     },
     "execution_count": 8,
     "metadata": {},
     "output_type": "execute_result"
    }
   ],
   "source": [
    "reference_ids = set([x for x, y in train_dict.items() if y['is_reference']])\n",
    "len(reference_ids)"
   ],
   "metadata": {
    "collapsed": false,
    "pycharm": {
     "name": "#%%\n"
    }
   }
  },
  {
   "cell_type": "code",
   "execution_count": 9,
   "outputs": [
    {
     "data": {
      "text/plain": "2780"
     },
     "execution_count": 9,
     "metadata": {},
     "output_type": "execute_result"
    }
   ],
   "source": [
    "non_reference_ids = set([x for x, y in train_dict.items() if not y['is_reference']])\n",
    "len(non_reference_ids)"
   ],
   "metadata": {
    "collapsed": false,
    "pycharm": {
     "name": "#%%\n"
    }
   }
  },
  {
   "cell_type": "code",
   "execution_count": 10,
   "outputs": [
    {
     "data": {
      "text/plain": "[(None, 471),\n ('116c9e6140857b4b', 37),\n ('d4ebc4a26700d5e0', 34),\n ('b91a686bdeee3b59', 22),\n ('d7d28d1201ba8bde', 22)]"
     },
     "execution_count": 10,
     "metadata": {},
     "output_type": "execute_result"
    }
   ],
   "source": [
    "per_ref_counter = Counter()\n",
    "for x in train_dataset:\n",
    "    per_ref_counter[x['reference_id']] += 1\n",
    "per_ref_counter.most_common(5)"
   ],
   "metadata": {
    "collapsed": false,
    "pycharm": {
     "name": "#%%\n"
    }
   }
  },
  {
   "cell_type": "code",
   "execution_count": 11,
   "outputs": [
    {
     "data": {
      "text/plain": "Text(0.5, 1.0, 'Количество ссыланий на референсы')"
     },
     "execution_count": 11,
     "metadata": {},
     "output_type": "execute_result"
    },
    {
     "data": {
      "text/plain": "<Figure size 432x288 with 1 Axes>",
      "image/png": "[encoded data removed]"
     },
     "metadata": {},
     "output_type": "display_data"
    }
   ],
   "source": [
    "sns.histplot([x[1] for x in per_ref_counter.items() if x[0] is not None], bins=20).set_title('Количество ссыланий на референсы')"
   ],
   "metadata": {
    "collapsed": false,
    "pycharm": {
     "name": "#%%\n"
    }
   }
  },
  {
   "cell_type": "code",
   "execution_count": 12,
   "outputs": [
    {
     "name": "stdout",
     "output_type": "stream",
     "text": [
      "1 (37). Газовая плита GEFEST 700-02, коричневый\n",
      "2 (34). Робот-пылесос Xiaomi Mi Robot Vacuum-Mop 2 Lite RU, белый\n",
      "3 (22). Робот-пылесос Xiaomi Viomi Cleaning robot, black\n",
      "4 (22). Встраиваемая посудомоечная машина Candy CDIH 2L1047-08\n",
      "5 (21). Встраиваемая посудомоечная машина Candy CDIH 1L949-08\n",
      "6 (20). Электрическая плита Energy EN-904В, черный\n",
      "7 (20). Индукционная плита Hyundai HYC-0101, черный\n",
      "8 (19). Сплит-система Royal Clima RC-PD28HN, белый\n",
      "9 (18). 16.1\" Ноутбук HONOR MagicBook 16 1920x1080, AMD Ryzen 5 5600H 3.3 ГГц, SSD 512 ГБ, HDD отсутствует, AMD Radeon Graphics, Windows 11 Home, 5301ABCM, космический серый\n",
      "10 (16). Mi Robot Vacuum-Mop 2 Pro\n",
      "11 (15). Индукционная плита Gorenje 566815, черный\n",
      "12 (15). Встраиваемая посудомоечная машина Korting KDI 45570, серебристый\n",
      "13 (15). Встраиваемая посудомоечная машина Gorenje GV62040, белый\n",
      "14 (15). Робот-пылесос Xiaomi Mi Robot Vacuum-Mop 2 Ultra EU, черный\n",
      "15 (14). Робот-пылесос Xiaomi Viomi Cleaning Robot V3, черный\n",
      "16 (14). Индукционная плита Kitfort КТ-119, серебристый\n",
      "17 (14). Стиральная машина с сушкой Candy CBWD 8514TWH, белый\n",
      "18 (13). 23.8\" Монитор ASUS VA24EHE, 1920x1080, 75 Гц, IPS, черный\n",
      "19 (13). Сплит-система Samsung AR09TQHQAURNER/AR09TQHQAURXER, белый\n",
      "20 (13). 23.8\" Монитор DELL S2421HN, 1920x1080, 75 Гц, IPS, серебристый/черный\n",
      "21 (12). 23.8\" Монитор Lenovo C24-20, 1920x1080, *VA, черный\n",
      "22 (12). Беспроводные наушники Samsung Galaxy Buds2 RU, черный\n",
      "23 (12). Индукционная плита Olto HP-101I, черный\n",
      "24 (12). Беспроводные наушники Xiaomi Redmi Buds 3 Lite, белый\n",
      "25 (12). Встраиваемая посудомоечная машина Korting KDI 45985, серебристый\n",
      "26 (12). Встраиваемая посудомоечная машина Kuppersberg GSM 6073, серебристый\n",
      "27 (12). Накопительный электрический водонагреватель Thermex Hit 10 U (Pro)\n",
      "28 (11). Беспроводные наушники Xiaomi Redmi Buds 3 Pro, серый ледник\n",
      "29 (11). 21.5\" Монитор Lenovo ThinkVision S22e-20, 1920x1080, 75 Гц, *VA, черный\n",
      "30 (11). Индукционная плита Hyundai HYC-0105, белый\n"
     ]
    }
   ],
   "source": [
    "for i, (id, c) in enumerate(per_ref_counter.most_common(31)[1:]):\n",
    "    print(f'{i + 1} ({c}). {train_dict[id][\"name\"]}')"
   ],
   "metadata": {
    "collapsed": false,
    "pycharm": {
     "name": "#%%\n"
    }
   }
  },
  {
   "cell_type": "code",
   "execution_count": 13,
   "outputs": [
    {
     "data": {
      "text/plain": "Text(0.5, 1.0, 'Количество пропсов')"
     },
     "execution_count": 13,
     "metadata": {},
     "output_type": "execute_result"
    },
    {
     "data": {
      "text/plain": "<Figure size 432x288 with 1 Axes>",
      "image/png": "[encoded data removed]"
     },
     "metadata": {},
     "output_type": "display_data"
    }
   ],
   "source": [
    "sns.histplot([len(x['props']) for x in train_dataset], bins=15).set_title('Количество пропсов')"
   ],
   "metadata": {
    "collapsed": false,
    "pycharm": {
     "name": "#%%\n"
    }
   }
  },
  {
   "cell_type": "markdown",
   "source": [
    "## Preprocessing"
   ],
   "metadata": {
    "collapsed": false,
    "pycharm": {
     "name": "#%% md\n"
    }
   }
  },
  {
   "cell_type": "code",
   "execution_count": 1176,
   "outputs": [],
   "source": [
    "clear_string = lambda x: re.sub(' +', ' ', re.sub(r\"[^а-яА-Яa-zA-Z\\d\\s\\,.:!?]\", \"\", x.replace('\\t', ': ').replace('-', ' - ').replace('/', ' / '))).strip()"
   ],
   "metadata": {
    "collapsed": false,
    "pycharm": {
     "name": "#%%\n"
    }
   }
  },
  {
   "cell_type": "code",
   "execution_count": 1177,
   "outputs": [
    {
     "data": {
      "text/plain": "[('206e6152baa06f26',\n  'Кондиционер Electrolux EACS 09HAT N3 Комплект | Доп. режимы ночной, осушение, вентиляция'),\n ('116a0dea1a4ff02d',\n  'Накопительный электрический водонагреватель Thermex Omnia 80 V, белый | Покрытие бака: стеклокерамика Управление: механическое Функции: ускоренный нагрев Объем бака: 80 л Потребляемая мощность: 2000 Вт Полезная мощность: 2 кВт Максимальная температура воды: 75 С Время нагрева: 100 мин Размеры ШxВxГ: 542x963x329 мм Системы защиты: предохранительный клапан Индикация нагрева, включения Установка: вертикальная на стену с нижней подводкой'),\n ('a2c0fc2cc9ed2d14',\n  'Фен Lumme LU 1057 Blue Sapphire | Мощность: 1400 Вт Вес: 350 г'),\n ('8b69cc8b592abddf',\n  'Кофемашина Beko CEG5311X | Особенности конструкции съемный лоток для сбора капель, индикатор уровня воды, индикатор включения, контейнер для отходов, дисплей Тип используемого кофе: зерновой Давление помпы: 19 бар Приготовление капучино: ручное Количество степеней помола: 5 Тип напитка латте, капучино, эспрессо, латте макиато Настройки объем порции горячей воды, температура кофе Доп. функции автоматическая декальцинация, автоотключение при неиспользовании, подача горячей воды'),\n ('66111416e7cce47c',\n  'Микроволновая печь Midea EM720CKE, белый | Объем: 20 л Переключатели: сенсорные Особенности подсветка камеры, дисплей, блокировка от детей Мощность микроволн: 700 Вт Внутреннее покрытие камеры: эмаль Режимы работы: разморозка ШхВхГ: 44х25.82х33 см Доп. режимы автоматическая разморозка, звуковой сигнал отключения, автоматическое приготовление')]"
     },
     "execution_count": 1177,
     "metadata": {},
     "output_type": "execute_result"
    }
   ],
   "source": [
    "combined_dict = dict()\n",
    "for (id, x) in train_dict.items():\n",
    "    combined_dict[id] = clear_string(x['name']) + \" | \" + clear_string(\" \".join(x['props']))\n",
    "random.choices(list(combined_dict.items()), k=5)"
   ],
   "metadata": {
    "collapsed": false,
    "pycharm": {
     "name": "#%%\n"
    }
   }
  },
  {
   "cell_type": "code",
   "execution_count": 16,
   "outputs": [],
   "source": [
    "def tokenize_text(text: str, lemmatize=True, tokenizer=Tokenizer()) -> list:\n",
    "    tokens = [token.value for token in tokenizer.tokenize(text)]\n",
    "    if lemmatize:\n",
    "        tokens = [simplemma.lemmatize(token, lang=('en', 'ru')).lower() for token in tokens if token]\n",
    "    return tokens"
   ],
   "metadata": {
    "collapsed": false,
    "pycharm": {
     "name": "#%%\n"
    }
   }
  },
  {
   "cell_type": "markdown",
   "source": [
    "## CountVectorizer and TF-IDF"
   ],
   "metadata": {
    "collapsed": false,
    "pycharm": {
     "name": "#%% md\n"
    }
   }
  },
  {
   "cell_type": "code",
   "execution_count": 1229,
   "outputs": [
    {
     "data": {
      "text/plain": "471"
     },
     "execution_count": 1229,
     "metadata": {},
     "output_type": "execute_result"
    }
   ],
   "source": [
    "only_refs_texts = list(map(lambda x: x[1], filter(lambda x: x[0] in reference_ids, combined_dict.items())))\n",
    "len(only_refs_texts)"
   ],
   "metadata": {
    "collapsed": false,
    "pycharm": {
     "name": "#%%\n"
    }
   }
  },
  {
   "cell_type": "code",
   "execution_count": 1230,
   "outputs": [
    {
     "name": "stdout",
     "output_type": "stream",
     "text": [
      "CPU times: user 187 ms, sys: 518 µs, total: 187 ms\n",
      "Wall time: 186 ms\n"
     ]
    },
    {
     "data": {
      "text/plain": "(471, 7769)"
     },
     "execution_count": 1230,
     "metadata": {},
     "output_type": "execute_result"
    }
   ],
   "source": [
    "%%time\n",
    "tfidf_vectorizer = TfidfVectorizer(max_df=0.5, min_df=1, smooth_idf=False, sublinear_tf=True, ngram_range=(2, 3), decode_error='ignore', analyzer='char_wb', tokenizer=tokenize_text)\n",
    "# tf_idf_matrix = tfidf_vectorizer.fit_transform(combined_dict.values())\n",
    "tf_idf_matrix = tfidf_vectorizer.fit_transform(only_refs_texts)\n",
    "tf_idf_matrix.shape"
   ],
   "metadata": {
    "collapsed": false,
    "pycharm": {
     "name": "#%%\n"
    }
   }
  },
  {
   "cell_type": "code",
   "execution_count": 1202,
   "outputs": [
    {
     "name": "stdout",
     "output_type": "stream",
     "text": [
      "Number of components = 20 and explained variance = 0.5497230663524381\n",
      "Number of components = 50 and explained variance = 0.6754477842491503\n",
      "Number of components = 100 and explained variance = 0.7763580849047367\n",
      "Number of components = 150 and explained variance = 0.842066713406115\n",
      "Number of components = 200 and explained variance = 0.8899080610643413\n",
      "Number of components = 250 and explained variance = 0.9261625035288968\n",
      "Number of components = 300 and explained variance = 0.9538498831177691\n",
      "Number of components = 350 and explained variance = 0.9744909509571005\n",
      "Number of components = 400 and explained variance = 0.9890177251250951\n",
      "Number of components = 450 and explained variance = 0.998158827986364\n",
      "Number of components = 500 and explained variance = 1.0000000000000002\n"
     ]
    },
    {
     "data": {
      "text/plain": "<Figure size 432x288 with 1 Axes>",
      "image/png": "[encoded data removed]"
     },
     "metadata": {},
     "output_type": "display_data"
    }
   ],
   "source": [
    "n_comp = [20, 50, 100, 150, 200, 250, 300, 350, 400, 450, 500]\n",
    "# n_comp = [20, 50, 100, 150, 200, 250, 300, 350, 400, 450, 500, 550, 600, 650, 700, 750, 800]\n",
    "explained = []\n",
    "for n in n_comp:\n",
    "    svd = TruncatedSVD(n_components=n)\n",
    "    svd.fit(tf_idf_matrix)\n",
    "    explained.append(svd.explained_variance_ratio_.sum())\n",
    "    print(\"Number of components = %r and explained variance = %r\"%(n,svd.explained_variance_ratio_.sum()))\n",
    "plt.plot(n_comp, explained)\n",
    "plt.xlabel('Number of components')\n",
    "plt.ylabel(\"Explained Variance\")\n",
    "plt.title(\"Plot of Number of components v/s explained variance\")\n",
    "plt.show()"
   ],
   "metadata": {
    "collapsed": false,
    "pycharm": {
     "name": "#%%\n"
    }
   }
  },
  {
   "cell_type": "code",
   "execution_count": 1269,
   "outputs": [
    {
     "name": "stdout",
     "output_type": "stream",
     "text": [
      "CPU times: user 20.2 s, sys: 13.7 s, total: 33.9 s\n",
      "Wall time: 3.74 s\n"
     ]
    },
    {
     "data": {
      "text/plain": "(471, 471)"
     },
     "execution_count": 1269,
     "metadata": {},
     "output_type": "execute_result"
    }
   ],
   "source": [
    "%%time\n",
    "tsvd = TruncatedSVD(n_components=471)\n",
    "tf_idf_vectors = tsvd.fit_transform(tf_idf_matrix)\n",
    "tf_idf_vectors.shape"
   ],
   "metadata": {
    "collapsed": false,
    "pycharm": {
     "name": "#%%\n"
    }
   }
  },
  {
   "cell_type": "markdown",
   "source": [
    "## FastText training"
   ],
   "metadata": {
    "collapsed": false,
    "pycharm": {
     "name": "#%% md\n"
    }
   }
  },
  {
   "cell_type": "code",
   "execution_count": 1232,
   "outputs": [
    {
     "data": {
      "text/plain": "3251"
     },
     "execution_count": 1232,
     "metadata": {},
     "output_type": "execute_result"
    }
   ],
   "source": [
    "tokenized_dataset = [tokenize_text(x) for x in combined_dict.values()]\n",
    "len(tokenized_dataset)"
   ],
   "metadata": {
    "collapsed": false,
    "pycharm": {
     "name": "#%%\n"
    }
   }
  },
  {
   "cell_type": "code",
   "execution_count": 1218,
   "outputs": [
    {
     "name": "stdout",
     "output_type": "stream",
     "text": [
      "CPU times: user 18min 7s, sys: 1.5 s, total: 18min 8s\n",
      "Wall time: 2min 28s\n"
     ]
    }
   ],
   "source": [
    "%%time\n",
    "ft_model = FastText(sentences=tokenized_dataset, vector_size=200, window=20, sorted_vocab=True, negative=25, workers=10, sg=1, epochs=80)"
   ],
   "metadata": {
    "collapsed": false,
    "pycharm": {
     "name": "#%%\n"
    }
   }
  },
  {
   "cell_type": "code",
   "execution_count": 807,
   "outputs": [],
   "source": [
    "# ft_model.save('models/fast-text-15-15-70-150.gensim')"
   ],
   "metadata": {
    "collapsed": false,
    "pycharm": {
     "name": "#%%\n"
    }
   }
  },
  {
   "cell_type": "code",
   "execution_count": 1219,
   "outputs": [
    {
     "name": "stderr",
     "output_type": "stream",
     "text": [
      "100%|██████████| 3251/3251 [00:01<00:00, 2439.71it/s]\n"
     ]
    }
   ],
   "source": [
    "ft_vectors = []\n",
    "for i, text in tqdm(enumerate(tokenized_dataset), total=len(tokenized_dataset)):\n",
    "    try:\n",
    "        vector = ft_model.wv.get_sentence_vector(text)\n",
    "        ft_vectors.append(vector)\n",
    "    except Exception as e:\n",
    "        print(f'Error during vectorizing {i} ')\n",
    "        ft_vectors.append(np.zeros(ft_model.wv.vector_size))\n",
    "ft_vectors = np.array(ft_vectors)"
   ],
   "metadata": {
    "collapsed": false,
    "pycharm": {
     "name": "#%%\n"
    }
   }
  },
  {
   "cell_type": "code",
   "execution_count": 1220,
   "outputs": [
    {
     "data": {
      "text/plain": "                     0         1\n0           настольный  0.785980\n1              рабочий  0.773068\n2               плитка  0.766677\n3          поверхность  0.754764\n4             конфорка  0.724125\n5      двухконфорочная  0.650142\n6        эмалированный  0.644369\n7         индукционных  0.643876\n8            термостат  0.627590\n9        электроплитка  0.622218\n10        индукционная  0.621865\n11     комбинированный  0.603374\n12            защитный  0.598735\n13          32х6.30х28  0.593916\n14                 hyc  0.580475\n15          29х6.50х37  0.576432\n16          29х4.50х36  0.573857\n17              баллон  0.558619\n18         50х10х37.40  0.556551\n19             духовка  0.551567\n20        традиционный  0.551393\n21            50х85х60  0.547189\n22                0105  0.543490\n23                  вх  0.537685\n24                ящик  0.531136\n25                 wgs  0.530201\n26  стеклокерамическая  0.527753\n27          fss53000dw  0.524380\n28          29х6.70х37  0.523677\n29                  пг  0.512499",
      "text/html": "<div>\n<style scoped>\n    .dataframe tbody tr th:only-of-type {\n        vertical-align: middle;\n    }\n\n    .dataframe tbody tr th {\n        vertical-align: top;\n    }\n\n    .dataframe thead th {\n        text-align: right;\n    }\n</style>\n<table border=\"1\" class=\"dataframe\">\n  <thead>\n    <tr style=\"text-align: right;\">\n      <th></th>\n      <th>0</th>\n      <th>1</th>\n    </tr>\n  </thead>\n  <tbody>\n    <tr>\n      <th>0</th>\n      <td>настольный</td>\n      <td>0.785980</td>\n    </tr>\n    <tr>\n      <th>1</th>\n      <td>рабочий</td>\n      <td>0.773068</td>\n    </tr>\n    <tr>\n      <th>2</th>\n      <td>плитка</td>\n      <td>0.766677</td>\n    </tr>\n    <tr>\n      <th>3</th>\n      <td>поверхность</td>\n      <td>0.754764</td>\n    </tr>\n    <tr>\n      <th>4</th>\n      <td>конфорка</td>\n      <td>0.724125</td>\n    </tr>\n    <tr>\n      <th>5</th>\n      <td>двухконфорочная</td>\n      <td>0.650142</td>\n    </tr>\n    <tr>\n      <th>6</th>\n      <td>эмалированный</td>\n      <td>0.644369</td>\n    </tr>\n    <tr>\n      <th>7</th>\n      <td>индукционных</td>\n      <td>0.643876</td>\n    </tr>\n    <tr>\n      <th>8</th>\n      <td>термостат</td>\n      <td>0.627590</td>\n    </tr>\n    <tr>\n      <th>9</th>\n      <td>электроплитка</td>\n      <td>0.622218</td>\n    </tr>\n    <tr>\n      <th>10</th>\n      <td>индукционная</td>\n      <td>0.621865</td>\n    </tr>\n    <tr>\n      <th>11</th>\n      <td>комбинированный</td>\n      <td>0.603374</td>\n    </tr>\n    <tr>\n      <th>12</th>\n      <td>защитный</td>\n      <td>0.598735</td>\n    </tr>\n    <tr>\n      <th>13</th>\n      <td>32х6.30х28</td>\n      <td>0.593916</td>\n    </tr>\n    <tr>\n      <th>14</th>\n      <td>hyc</td>\n      <td>0.580475</td>\n    </tr>\n    <tr>\n      <th>15</th>\n      <td>29х6.50х37</td>\n      <td>0.576432</td>\n    </tr>\n    <tr>\n      <th>16</th>\n      <td>29х4.50х36</td>\n      <td>0.573857</td>\n    </tr>\n    <tr>\n      <th>17</th>\n      <td>баллон</td>\n      <td>0.558619</td>\n    </tr>\n    <tr>\n      <th>18</th>\n      <td>50х10х37.40</td>\n      <td>0.556551</td>\n    </tr>\n    <tr>\n      <th>19</th>\n      <td>духовка</td>\n      <td>0.551567</td>\n    </tr>\n    <tr>\n      <th>20</th>\n      <td>традиционный</td>\n      <td>0.551393</td>\n    </tr>\n    <tr>\n      <th>21</th>\n      <td>50х85х60</td>\n      <td>0.547189</td>\n    </tr>\n    <tr>\n      <th>22</th>\n      <td>0105</td>\n      <td>0.543490</td>\n    </tr>\n    <tr>\n      <th>23</th>\n      <td>вх</td>\n      <td>0.537685</td>\n    </tr>\n    <tr>\n      <th>24</th>\n      <td>ящик</td>\n      <td>0.531136</td>\n    </tr>\n    <tr>\n      <th>25</th>\n      <td>wgs</td>\n      <td>0.530201</td>\n    </tr>\n    <tr>\n      <th>26</th>\n      <td>стеклокерамическая</td>\n      <td>0.527753</td>\n    </tr>\n    <tr>\n      <th>27</th>\n      <td>fss53000dw</td>\n      <td>0.524380</td>\n    </tr>\n    <tr>\n      <th>28</th>\n      <td>29х6.70х37</td>\n      <td>0.523677</td>\n    </tr>\n    <tr>\n      <th>29</th>\n      <td>пг</td>\n      <td>0.512499</td>\n    </tr>\n  </tbody>\n</table>\n</div>"
     },
     "execution_count": 1220,
     "metadata": {},
     "output_type": "execute_result"
    }
   ],
   "source": [
    "pd.DataFrame(ft_model.wv.most_similar('плита', topn=30))"
   ],
   "metadata": {
    "collapsed": false,
    "pycharm": {
     "name": "#%%\n"
    }
   }
  },
  {
   "cell_type": "markdown",
   "source": [
    "## NearestNeighbors"
   ],
   "metadata": {
    "collapsed": false,
    "pycharm": {
     "name": "#%% md\n"
    }
   }
  },
  {
   "cell_type": "code",
   "execution_count": 1270,
   "outputs": [
    {
     "data": {
      "text/plain": "3251"
     },
     "execution_count": 1270,
     "metadata": {},
     "output_type": "execute_result"
    }
   ],
   "source": [
    "enumerated_dataset = dict(zip(range(len(train_dict)), train_dict.keys()))\n",
    "len(enumerated_dataset)"
   ],
   "metadata": {
    "collapsed": false,
    "pycharm": {
     "name": "#%%\n"
    }
   }
  },
  {
   "cell_type": "code",
   "execution_count": 1271,
   "outputs": [
    {
     "data": {
      "text/plain": "471"
     },
     "execution_count": 1271,
     "metadata": {},
     "output_type": "execute_result"
    }
   ],
   "source": [
    "ref_num_ids = np.array([x for x, y in enumerated_dataset.items() if y in reference_ids])\n",
    "len(ref_num_ids)"
   ],
   "metadata": {
    "collapsed": false,
    "pycharm": {
     "name": "#%%\n"
    }
   }
  },
  {
   "cell_type": "code",
   "execution_count": 1272,
   "outputs": [
    {
     "data": {
      "text/plain": "2780"
     },
     "execution_count": 1272,
     "metadata": {},
     "output_type": "execute_result"
    }
   ],
   "source": [
    "non_ref_num_ids = np.array([x for x, y in enumerated_dataset.items() if y in non_reference_ids])\n",
    "len(non_ref_num_ids)"
   ],
   "metadata": {
    "collapsed": false,
    "pycharm": {
     "name": "#%%\n"
    }
   }
  },
  {
   "cell_type": "code",
   "execution_count": 1273,
   "outputs": [
    {
     "name": "stdout",
     "output_type": "stream",
     "text": [
      "CPU times: user 641 µs, sys: 118 µs, total: 759 µs\n",
      "Wall time: 566 µs\n"
     ]
    },
    {
     "data": {
      "text/plain": "NearestNeighbors(n_neighbors=1)",
      "text/html": "<style>#sk-container-id-98 {color: black;background-color: white;}#sk-container-id-98 pre{padding: 0;}#sk-container-id-98 div.sk-toggleable {background-color: white;}#sk-container-id-98 label.sk-toggleable__label {cursor: pointer;display: block;width: 100%;margin-bottom: 0;padding: 0.3em;box-sizing: border-box;text-align: center;}#sk-container-id-98 label.sk-toggleable__label-arrow:before {content: \"▸\";float: left;margin-right: 0.25em;color: #696969;}#sk-container-id-98 label.sk-toggleable__label-arrow:hover:before {color: black;}#sk-container-id-98 div.sk-estimator:hover label.sk-toggleable__label-arrow:before {color: black;}#sk-container-id-98 div.sk-toggleable__content {max-height: 0;max-width: 0;overflow: hidden;text-align: left;background-color: #f0f8ff;}#sk-container-id-98 div.sk-toggleable__content pre {margin: 0.2em;color: black;border-radius: 0.25em;background-color: #f0f8ff;}#sk-container-id-98 input.sk-toggleable__control:checked~div.sk-toggleable__content {max-height: 200px;max-width: 100%;overflow: auto;}#sk-container-id-98 input.sk-toggleable__control:checked~label.sk-toggleable__label-arrow:before {content: \"▾\";}#sk-container-id-98 div.sk-estimator input.sk-toggleable__control:checked~label.sk-toggleable__label {background-color: #d4ebff;}#sk-container-id-98 div.sk-label input.sk-toggleable__control:checked~label.sk-toggleable__label {background-color: #d4ebff;}#sk-container-id-98 input.sk-hidden--visually {border: 0;clip: rect(1px 1px 1px 1px);clip: rect(1px, 1px, 1px, 1px);height: 1px;margin: -1px;overflow: hidden;padding: 0;position: absolute;width: 1px;}#sk-container-id-98 div.sk-estimator {font-family: monospace;background-color: #f0f8ff;border: 1px dotted black;border-radius: 0.25em;box-sizing: border-box;margin-bottom: 0.5em;}#sk-container-id-98 div.sk-estimator:hover {background-color: #d4ebff;}#sk-container-id-98 div.sk-parallel-item::after {content: \"\";width: 100%;border-bottom: 1px solid gray;flex-grow: 1;}#sk-container-id-98 div.sk-label:hover label.sk-toggleable__label {background-color: #d4ebff;}#sk-container-id-98 div.sk-serial::before {content: \"\";position: absolute;border-left: 1px solid gray;box-sizing: border-box;top: 0;bottom: 0;left: 50%;z-index: 0;}#sk-container-id-98 div.sk-serial {display: flex;flex-direction: column;align-items: center;background-color: white;padding-right: 0.2em;padding-left: 0.2em;position: relative;}#sk-container-id-98 div.sk-item {position: relative;z-index: 1;}#sk-container-id-98 div.sk-parallel {display: flex;align-items: stretch;justify-content: center;background-color: white;position: relative;}#sk-container-id-98 div.sk-item::before, #sk-container-id-98 div.sk-parallel-item::before {content: \"\";position: absolute;border-left: 1px solid gray;box-sizing: border-box;top: 0;bottom: 0;left: 50%;z-index: -1;}#sk-container-id-98 div.sk-parallel-item {display: flex;flex-direction: column;z-index: 1;position: relative;background-color: white;}#sk-container-id-98 div.sk-parallel-item:first-child::after {align-self: flex-end;width: 50%;}#sk-container-id-98 div.sk-parallel-item:last-child::after {align-self: flex-start;width: 50%;}#sk-container-id-98 div.sk-parallel-item:only-child::after {width: 0;}#sk-container-id-98 div.sk-dashed-wrapped {border: 1px dashed gray;margin: 0 0.4em 0.5em 0.4em;box-sizing: border-box;padding-bottom: 0.4em;background-color: white;}#sk-container-id-98 div.sk-label label {font-family: monospace;font-weight: bold;display: inline-block;line-height: 1.2em;}#sk-container-id-98 div.sk-label-container {text-align: center;}#sk-container-id-98 div.sk-container {/* jupyter's `normalize.less` sets `[hidden] { display: none; }` but bootstrap.min.css set `[hidden] { display: none !important; }` so we also need the `!important` here to be able to override the default hidden behavior on the sphinx rendered scikit-learn.org. See: https://github.com/scikit-learn/scikit-learn/issues/21755 */display: inline-block !important;position: relative;}#sk-container-id-98 div.sk-text-repr-fallback {display: none;}</style><div id=\"sk-container-id-98\" class=\"sk-top-container\"><div class=\"sk-text-repr-fallback\"><pre>NearestNeighbors(n_neighbors=1)</pre><b>In a Jupyter environment, please rerun this cell to show the HTML representation or trust the notebook. <br />On GitHub, the HTML representation is unable to render, please try loading this page with nbviewer.org.</b></div><div class=\"sk-container\" hidden><div class=\"sk-item\"><div class=\"sk-estimator sk-toggleable\"><input class=\"sk-toggleable__control sk-hidden--visually\" id=\"sk-estimator-id-98\" type=\"checkbox\" checked><label for=\"sk-estimator-id-98\" class=\"sk-toggleable__label sk-toggleable__label-arrow\">NearestNeighbors</label><div class=\"sk-toggleable__content\"><pre>NearestNeighbors(n_neighbors=1)</pre></div></div></div></div></div>"
     },
     "execution_count": 1273,
     "metadata": {},
     "output_type": "execute_result"
    }
   ],
   "source": [
    "%%time\n",
    "nn = NearestNeighbors(n_neighbors=1)\n",
    "# nn.fit(ft_vectors[ref_num_ids])\n",
    "nn.fit(tf_idf_vectors)"
   ],
   "metadata": {
    "collapsed": false,
    "pycharm": {
     "name": "#%%\n"
    }
   }
  },
  {
   "cell_type": "code",
   "execution_count": 1274,
   "outputs": [
    {
     "data": {
      "text/plain": "2780"
     },
     "execution_count": 1274,
     "metadata": {},
     "output_type": "execute_result"
    }
   ],
   "source": [
    "only_non_refs_texts = list(map(lambda x: x[1], filter(lambda x: x[0] in non_reference_ids, combined_dict.items())))\n",
    "len(only_non_refs_texts)"
   ],
   "metadata": {
    "collapsed": false,
    "pycharm": {
     "name": "#%%\n"
    }
   }
  },
  {
   "cell_type": "code",
   "execution_count": 1275,
   "outputs": [
    {
     "name": "stdout",
     "output_type": "stream",
     "text": [
      "CPU times: user 698 ms, sys: 343 µs, total: 698 ms\n",
      "Wall time: 697 ms\n"
     ]
    },
    {
     "data": {
      "text/plain": "(2780, 471)"
     },
     "execution_count": 1275,
     "metadata": {},
     "output_type": "execute_result"
    }
   ],
   "source": [
    "%%time\n",
    "test_vectors = tsvd.transform(tfidf_vectorizer.transform(only_non_refs_texts)) # не надо удали бля\n",
    "test_vectors.shape"
   ],
   "metadata": {
    "collapsed": false,
    "pycharm": {
     "name": "#%%\n"
    }
   }
  },
  {
   "cell_type": "code",
   "execution_count": 1280,
   "outputs": [
    {
     "name": "stdout",
     "output_type": "stream",
     "text": [
      "CPU times: user 5.43 s, sys: 16.4 ms, total: 5.45 s\n",
      "Wall time: 817 ms\n"
     ]
    },
    {
     "data": {
      "text/plain": "(2780, 1)"
     },
     "execution_count": 1280,
     "metadata": {},
     "output_type": "execute_result"
    }
   ],
   "source": [
    "%%time\n",
    "ref_neibs = nn.kneighbors(test_vectors)[1]\n",
    "# ref_neibs = nn.kneighbors(ft_vectors[non_ref_num_ids])[1]\n",
    "ref_neibs.shape"
   ],
   "metadata": {
    "collapsed": false,
    "pycharm": {
     "name": "#%%\n"
    }
   }
  },
  {
   "cell_type": "code",
   "execution_count": 1284,
   "outputs": [
    {
     "data": {
      "text/plain": "array([0.9160073 , 0.87488871, 0.87004961, 0.86697574, 0.8667239 ,\n       0.86221836, 0.85708163, 0.85654585, 0.85244727, 0.8500676 ])"
     },
     "execution_count": 1284,
     "metadata": {},
     "output_type": "execute_result"
    }
   ],
   "source": [
    "np.sort(nn.kneighbors(test_vectors)[0][:, 0])[::-1][:10]"
   ],
   "metadata": {
    "collapsed": false,
    "pycharm": {
     "name": "#%%\n"
    }
   }
  },
  {
   "cell_type": "code",
   "execution_count": 1277,
   "outputs": [
    {
     "data": {
      "text/plain": "(2780,)"
     },
     "execution_count": 1277,
     "metadata": {},
     "output_type": "execute_result"
    }
   ],
   "source": [
    "real_ref_ids = ref_num_ids[ref_neibs[:, 0]]\n",
    "real_ref_ids.shape"
   ],
   "metadata": {
    "collapsed": false,
    "pycharm": {
     "name": "#%%\n"
    }
   }
  },
  {
   "cell_type": "code",
   "execution_count": 1278,
   "outputs": [
    {
     "data": {
      "text/plain": "(2678, 0.9633093525179857)"
     },
     "execution_count": 1278,
     "metadata": {},
     "output_type": "execute_result"
    }
   ],
   "source": [
    "matches_count = 0\n",
    "for i, x in enumerate(non_ref_num_ids):\n",
    "    prediction_id = real_ref_ids[i]\n",
    "    reference_uid = train_dict[enumerated_dataset[x]]['reference_id']\n",
    "    prediction_uid = enumerated_dataset[prediction_id]\n",
    "    if prediction_uid == reference_uid:\n",
    "        matches_count += 1\n",
    "matches_count, matches_count / len(non_ref_num_ids)"
   ],
   "metadata": {
    "collapsed": false,
    "pycharm": {
     "name": "#%%\n"
    }
   }
  },
  {
   "cell_type": "code",
   "execution_count": 1279,
   "outputs": [
    {
     "data": {
      "text/plain": "{'product_id': '767e8aac14292d41',\n 'name': 'Стиральная машина Bosch WIW 24340, белый',\n 'props': ['Установка\\tвстраиваемая',\n  'Загрузка\\t7  кг',\n  'ШхГхВ\\t60х57х82   см',\n  'Скорость  отжима\\t1200 об/мин',\n  'Класс   энергопотребления\\tA+++',\n  'Доп.функции  контроль баланса, выбор температуры стирки, контроль за уровнем пены, сигнал окончания стирки, интеллектуальное управление стиркой, выбор скорости отжима',\n  'Защита   от скачков питания, от детей, от протечек'],\n 'is_reference': True,\n 'reference_id': None}"
     },
     "execution_count": 1279,
     "metadata": {},
     "output_type": "execute_result"
    }
   ],
   "source": [
    "train_dict['767e8aac14292d41']"
   ],
   "metadata": {
    "collapsed": false,
    "pycharm": {
     "name": "#%%\n"
    }
   }
  },
  {
   "cell_type": "code",
   "execution_count": null,
   "outputs": [],
   "source": [],
   "metadata": {
    "collapsed": false,
    "pycharm": {
     "name": "#%%\n"
    }
   }
  }
 ],
 "metadata": {
  "kernelspec": {
   "display_name": "Python 3",
   "language": "python",
   "name": "python3"
  },
  "language_info": {
   "codemirror_mode": {
    "name": "ipython",
    "version": 2
   },
   "file_extension": ".py",
   "mimetype": "text/x-python",
   "name": "python",
   "nbconvert_exporter": "python",
   "pygments_lexer": "ipython2",
   "version": "2.7.6"
  }
 },
 "nbformat": 4,
 "nbformat_minor": 0
}